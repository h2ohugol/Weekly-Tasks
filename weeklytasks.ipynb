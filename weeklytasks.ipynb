{
 "cells": [
  {
   "cell_type": "markdown",
   "metadata": {},
   "source": [
    "# Weekly Tasks \n",
    "***\n",
    "\n",
    "This notebook content is on my weekly tasks \n"
   ]
  },
  {
   "cell_type": "markdown",
   "metadata": {},
   "source": [
    "# Libraries\n",
    "****\n"
   ]
  },
  {
   "cell_type": "code",
   "execution_count": 9,
   "metadata": {},
   "outputs": [],
   "source": [
    "# Numerical Python\n",
    "\n",
    "import numpy as np\n"
   ]
  },
  {
   "cell_type": "markdown",
   "metadata": {},
   "source": [
    "### Week 1 (\"Hello World!\")\n",
    "\n",
    "first progamming experience.\n",
    "\n",
    "test.py \n"
   ]
  },
  {
   "cell_type": "code",
   "execution_count": 10,
   "metadata": {},
   "outputs": [
    {
     "name": "stdout",
     "output_type": "stream",
     "text": [
      "Hello World!\n"
     ]
    }
   ],
   "source": [
    "print(\"Hello World!\")"
   ]
  },
  {
   "cell_type": "markdown",
   "metadata": {},
   "source": [
    "### Week 2 bank.py\n",
    "***\n",
    "\n",
    "When Banks are storing currency figures, they store them as integers (usually in cent).This is to avoid rounding errors. \n",
    "\n",
    "- Prompt the user and read in two money amounts (in cent)\n",
    "- Add two amounts\n",
    "- Print out the answer in a human readable format with a euro sign and decimal point between the euro and cent of the amount \n",
    "\n",
    "Enter amount1(in cent): 65\n",
    "\n",
    "Enter amount2(in cent): 180\n",
    "\n",
    "The sum of these is €2.45"
   ]
  },
  {
   "cell_type": "code",
   "execution_count": 11,
   "metadata": {},
   "outputs": [
    {
     "name": "stdout",
     "output_type": "stream",
     "text": [
      "The sum of these is €2.45\n"
     ]
    }
   ],
   "source": [
    "# bank.py\n",
    "\n",
    "amount1 = int(input(\"Enter amount1(in cent): \"))\n",
    "\n",
    "amount2 = int(input(\"Enter amount2(in cent): \"))\n",
    "\n",
    "\n",
    "total = (amount1 + amount2) / 100\n",
    "\n",
    "print(f\"The sum of these is €{total}\")\n"
   ]
  },
  {
   "cell_type": "markdown",
   "metadata": {},
   "source": [
    "### Week 3 accounts.py\n",
    "***\n",
    "\n",
    "- accounts\n",
    "- hiding 6 digits out of 10 showing 4\n",
    "\n",
    "- Please enter an 10 digit account number: 1234567890\n",
    "- XXXXXX7890"
   ]
  },
  {
   "cell_type": "code",
   "execution_count": 12,
   "metadata": {},
   "outputs": [
    {
     "name": "stdout",
     "output_type": "stream",
     "text": [
      "XXXXXX7890\n"
     ]
    }
   ],
   "source": [
    "account_no = int(input(\"Please enter an 10 digit account number: \"))\n",
    "print(f\"XXXXXX{account_no % 10000}\")"
   ]
  },
  {
   "cell_type": "markdown",
   "metadata": {},
   "source": [
    "### Week 4 collatz.py\n",
    "\n",
    "\n",
    " Write a program, called collatz.py, that asks the user to input any positive integer \n",
    " and outputs the successive values of the following calculation.\n",
    " At each step calculate the next value by taking the current value and, \n",
    " if it is even, divide it by two, but if it is odd, multiply it by three and add one.\n",
    "Have the program end if the current value is one."
   ]
  },
  {
   "cell_type": "code",
   "execution_count": 13,
   "metadata": {},
   "outputs": [
    {
     "name": "stdout",
     "output_type": "stream",
     "text": [
      "10\n",
      "5\n",
      "16\n",
      "8\n",
      "4\n",
      "2\n",
      "1\n"
     ]
    }
   ],
   "source": [
    "def collatz(num):\n",
    "    while(num!=1):\n",
    "        if(num%2==0):\n",
    "            num=num//2\n",
    "            print(num)\n",
    "        else:\n",
    "            num=3*num+1\n",
    "            print(num)\n",
    "\n",
    "numx= int(input(\"Enter number:\\n\"))\n",
    "collatz(numx)"
   ]
  },
  {
   "cell_type": "markdown",
   "metadata": {},
   "source": [
    "### Week 5 weekday.py\n",
    "***\n",
    "\n",
    "Write a program that outputs whether or not today is a weekday\n",
    "You will need to search the web to find how you work out what day it is:\n",
    "\n",
    "\n",
    "References:\n",
    "\n",
    "[w3schools](https://www.w3schools.com/python/python_datetime.asp)\n",
    "\n",
    "[w3schools](https://www.w3schools.com/python/python_conditions.asp)\n",
    "\n",
    "[shecodes](https://www.shecodes.io/athena/10185-how-to-check-what-day-of-the-week-it-is-in-python#:~:text=date%20using%20datetime.-,datetime.,)\n",
    "\n",
    "- An example of running this program on a Thursday is given below.\n",
    "- $ python weekday.py\n",
    " Yes, unfortunately today is a weekday.\n",
    "\n",
    "- An example of running it on a Saturday is as follows:\n",
    "- $ python weekday.py\n",
    "   It is the weekend, yay!"
   ]
  },
  {
   "cell_type": "code",
   "execution_count": 16,
   "metadata": {},
   "outputs": [
    {
     "name": "stdout",
     "output_type": "stream",
     "text": [
      "Yes! It's the weekend!\n"
     ]
    }
   ],
   "source": [
    "import datetime\n",
    "\n",
    "today = datetime.datetime.today()\n",
    "\n",
    "if today.weekday() == 4:\n",
    "    print(\"Bravissimo! It's almost the weekend!\")\n",
    "elif today.weekday() == 5 or today.weekday() == 6:\n",
    "    print(\"Yes! It's the weekend!\")\n",
    "else: \n",
    "    days_to_weekend = 4 - today.weekday()\n",
    "    print(f\"{days_to_weekend} days until the weekend.\")"
   ]
  },
  {
   "cell_type": "markdown",
   "metadata": {},
   "source": [
    "#### Week 6 squareroot.py\n",
    "***\n",
    "\n",
    "Write a program that takes a positive floating-point number as input and outputs an approximation of its square root.\n",
    "\n",
    "You should create a function called <tt>sqrt</tt> that does this.\n",
    "\n",
    "The aim is to create my own sqrt function and not to use the built in functions x ** .5 or math.sqrt(x).\n",
    "\n",
    "This is to demonstrate that you can research and code a process (If you really needed the square root\n",
    " you would use one of the above methods). We will look at the newton method at estimating square roots. "
   ]
  },
  {
   "cell_type": "markdown",
   "metadata": {},
   "source": [
    "Ref:\n",
    "\n",
    "[WIKIPEDIA](https://en.wikipedia.org/wiki/Newton's_method)\n",
    "\n",
    "[UBC.CA](https://personal.math.ubc.ca/~anstee/math104/newtonmethod.pdf)\n",
    "\n",
    "[Medium](https://medium.com/@bundy01/newton-raphson-method-for-root-finding-in-python-6b1377103c4b)\n",
    "\n",
    "[Oxford dictionary](https://www.oxfordlearnersdictionaries.com/definition/american_english/iteration)\n",
    "\n",
    "[WIKIPEDIA](https://en.wikipedia.org/wiki/Iteration)"
   ]
  },
  {
   "cell_type": "code",
   "execution_count": 18,
   "metadata": {},
   "outputs": [
    {
     "name": "stdout",
     "output_type": "stream",
     "text": [
      "The square root of 20.0 is approx. 4.5.\n"
     ]
    }
   ],
   "source": [
    "def sqrt(num):\n",
    "    \"\"\"Aroximates the square root of a positive floating-point number.\"\"\"\n",
    "     # Initial guess for the square root\n",
    "    guess = num/ 2\n",
    "    \n",
    "    # Iterate untill the guess is close enough\n",
    "    while abs(guess ** 2 - num) > 0.0001:\n",
    "       guess = (guess + num / guess) / 2\n",
    "\n",
    "    return guess\n",
    "\n",
    "def main():\n",
    "    \"\"\"Main function.\"\"\"\n",
    "    # Enter a positive number\n",
    "    num = float(input(\"please enter a positive number: \"))\n",
    "\n",
    "    # Check if the number is positive\n",
    "    if num <= 0:\n",
    "        print(\"Error: please enter a positive number:\")\n",
    "        return\n",
    "    \n",
    "    # Calculate the square root using the sqrt function\n",
    "    result = sqrt(num)\n",
    "\n",
    "    # Output the result\n",
    "    print(f\"The square root of {num} is approx. {result:.1f}.\")\n",
    "\n",
    "if __name__ == \"__main__\":\n",
    "    main()"
   ]
  }
 ],
 "metadata": {
  "kernelspec": {
   "display_name": "base",
   "language": "python",
   "name": "python3"
  },
  "language_info": {
   "codemirror_mode": {
    "name": "ipython",
    "version": 3
   },
   "file_extension": ".py",
   "mimetype": "text/x-python",
   "name": "python",
   "nbconvert_exporter": "python",
   "pygments_lexer": "ipython3",
   "version": "3.11.5"
  }
 },
 "nbformat": 4,
 "nbformat_minor": 2
}
