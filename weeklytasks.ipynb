{
 "cells": [
  {
   "cell_type": "markdown",
   "metadata": {},
   "source": [
    "# Weekly Tasks \n",
    "***\n",
    "\n",
    "This notebook content is on my weekly tasks \n"
   ]
  },
  {
   "cell_type": "markdown",
   "metadata": {},
   "source": [
    "# Libraries\n",
    "****\n"
   ]
  },
  {
   "cell_type": "code",
   "execution_count": 160,
   "metadata": {},
   "outputs": [],
   "source": [
    "# Numerical Python\n",
    "\n",
    "import numpy as np\n",
    "\n",
    "# Data.\n",
    "\n",
    "import pandas as pd\n",
    "\n",
    "# Random module from the python standard Library.\n",
    "\n",
    "import random\n",
    "\n",
    "# URL Read\n",
    "\n",
    "import urllib.request\n",
    "\n",
    "# Module before runing any function in a program\n",
    "\n",
    "import sys\n",
    "\n",
    "# Os provides functions for interacting with Operating Systems\n",
    "\n",
    "import os\n",
    "\n",
    "# Ploting.\n",
    "\n",
    "import matplotlib.pyplot as plt\n",
    "\n",
    "\n"
   ]
  },
  {
   "cell_type": "markdown",
   "metadata": {},
   "source": [
    "### Week 1 (\"Hello World!\")\n",
    "\n",
    "First progamming experience.\n",
    "\n",
    "test.py \n"
   ]
  },
  {
   "cell_type": "code",
   "execution_count": 161,
   "metadata": {},
   "outputs": [
    {
     "name": "stdout",
     "output_type": "stream",
     "text": [
      "Hello World!\n"
     ]
    }
   ],
   "source": [
    "print(\"Hello World!\")"
   ]
  },
  {
   "cell_type": "markdown",
   "metadata": {},
   "source": [
    "### Week 2 bank.py\n",
    "\n",
    "***\n",
    "\n",
    "###### Sources:\n",
    "* [Integers & floats](https://www.w3schools.com/python/python_numbers.asp)\n",
    "* [Built-in functions](https://docs.python.org/3/library/functions.html)\n",
    "\n",
    "When Banks are storing currency figures, they store them as integers (usually in cent).This is to avoid rounding errors. \n",
    "\n",
    "- Prompt the user and read in two money amounts (in cent)\n",
    "- Add two amounts\n",
    "- Print out the answer in a human readable format with a euro sign and decimal point between the euro and cent of the amount \n",
    "\n",
    "Enter amount1(in cent): 65\n",
    "\n",
    "Enter amount2(in cent): 180\n",
    "\n",
    "The sum of these is €2.45"
   ]
  },
  {
   "cell_type": "code",
   "execution_count": 162,
   "metadata": {},
   "outputs": [
    {
     "name": "stdout",
     "output_type": "stream",
     "text": [
      "The sum of these is €2.45\n"
     ]
    }
   ],
   "source": [
    "# bank.py\n",
    "\n",
    "amount1 = int(input(\"Enter amount1(in cent): \"))\n",
    "\n",
    "amount2 = int(input(\"Enter amount2(in cent): \"))\n",
    "\n",
    "\n",
    "total = (amount1 + amount2) / 100\n",
    "\n",
    "print(f\"The sum of these is €{total}\")\n"
   ]
  },
  {
   "cell_type": "markdown",
   "metadata": {},
   "source": [
    "### Week 3 accounts.py\n",
    "\n",
    "***\n",
    "\n",
    "###### Sources:\n",
    "\n",
    "* [Find 100's](https://www.bing.com/search?q=find+100s+number+python+-+Search+(bing.com)&cvid=fbdd2c3d7bf24571866b7a18851d754f&gs_lcrp=EgZjaHJvbWUyBggAEEUYOTIGCAEQABhAMgYIAhAAGEAyBggDEAAYQDIGCAQQABhAMgYIBRAAGEAyBggGEAAYQNIBBzU4NWowajSoAgCwAgA&FORM=ANAB01&PC=ACTS)\n",
    "* [slicing](https://www.w3schools.com/python/python_strings_slicing.asp)\n",
    "\n",
    "- accounts\n",
    "- hiding 6 digits out of 10 showing 4\n",
    "\n",
    "- Please enter an 10 digit account number: 1234567890\n",
    "- XXXXXX7890"
   ]
  },
  {
   "cell_type": "code",
   "execution_count": 163,
   "metadata": {},
   "outputs": [
    {
     "name": "stdout",
     "output_type": "stream",
     "text": [
      "XXXXXX7890\n"
     ]
    }
   ],
   "source": [
    "account_no = int(input(\"Please enter an 10 digit account number: \"))\n",
    "print(f\"XXXXXX{account_no % 10000}\")"
   ]
  },
  {
   "cell_type": "markdown",
   "metadata": {},
   "source": [
    "### Week 4 collatz.py\n",
    "\n",
    "***\n",
    "\n",
    "######Sources:\n",
    "\n",
    "* [Collatz conjecture](https://www.youtube.com/watch?v=094y1Z2wpJg&t=1s)\n",
    "* [A Whirlwind Tour of Python, P36](https://s3-us-west-2.amazonaws.com/python-notes/a-whirlwind-tour-of-python-2.pdf)\n",
    "* [Python documentation](https://docs.python.org/3/library/stdtypes.html)\n",
    "\n",
    "\n",
    " Write a program, called collatz.py, that asks the user to input any positive integer \n",
    " and outputs the successive values of the following calculation.\n",
    " At each step calculate the next value by taking the current value and, \n",
    " if it is even, divide it by two, but if it is odd, multiply it by three and add one.\n",
    "Have the program end if the current value is one."
   ]
  },
  {
   "cell_type": "code",
   "execution_count": 164,
   "metadata": {},
   "outputs": [
    {
     "name": "stdout",
     "output_type": "stream",
     "text": [
      "142\n",
      "71\n",
      "214\n",
      "107\n",
      "322\n",
      "161\n",
      "484\n",
      "242\n",
      "121\n",
      "364\n",
      "182\n",
      "91\n",
      "274\n",
      "137\n",
      "412\n",
      "206\n",
      "103\n",
      "310\n",
      "155\n",
      "466\n",
      "233\n",
      "700\n",
      "350\n",
      "175\n",
      "526\n",
      "263\n",
      "790\n",
      "395\n",
      "1186\n",
      "593\n",
      "1780\n",
      "890\n",
      "445\n",
      "1336\n",
      "668\n",
      "334\n",
      "167\n",
      "502\n",
      "251\n",
      "754\n",
      "377\n",
      "1132\n",
      "566\n",
      "283\n",
      "850\n",
      "425\n",
      "1276\n",
      "638\n",
      "319\n",
      "958\n",
      "479\n",
      "1438\n",
      "719\n",
      "2158\n",
      "1079\n",
      "3238\n",
      "1619\n",
      "4858\n",
      "2429\n",
      "7288\n",
      "3644\n",
      "1822\n",
      "911\n",
      "2734\n",
      "1367\n",
      "4102\n",
      "2051\n",
      "6154\n",
      "3077\n",
      "9232\n",
      "4616\n",
      "2308\n",
      "1154\n",
      "577\n",
      "1732\n",
      "866\n",
      "433\n",
      "1300\n",
      "650\n",
      "325\n",
      "976\n",
      "488\n",
      "244\n",
      "122\n",
      "61\n",
      "184\n",
      "92\n",
      "46\n",
      "23\n",
      "70\n",
      "35\n",
      "106\n",
      "53\n",
      "160\n",
      "80\n",
      "40\n",
      "20\n",
      "10\n",
      "5\n",
      "16\n",
      "8\n",
      "4\n",
      "2\n",
      "1\n"
     ]
    }
   ],
   "source": [
    "def collatz(num):\n",
    "    while(num!=1):\n",
    "        if(num%2==0):\n",
    "            num=num//2\n",
    "            print(num)\n",
    "        else:\n",
    "            num=3*num+1\n",
    "            print(num)\n",
    "\n",
    "numx= int(input(\"Enter number:\\n\"))\n",
    "collatz(numx)"
   ]
  },
  {
   "cell_type": "markdown",
   "metadata": {},
   "source": [
    "### Week 5 weekday.py\n",
    "***\n",
    "\n",
    "Write a program that outputs whether or not today is a weekday\n",
    "You will need to search the web to find how you work out what day it is:\n",
    "\n",
    "\n",
    "References:\n",
    "\n",
    "[w3schools](https://www.w3schools.com/python/python_datetime.asp)\n",
    "\n",
    "[w3schools](https://www.w3schools.com/python/python_conditions.asp)\n",
    "\n",
    "[shecodes](https://www.shecodes.io/athena/10185-how-to-check-what-day-of-the-week-it-is-in-python#:~:text=date%20using%20datetime.-,datetime.,)\n",
    "\n",
    "- An example of running this program on a Thursday is given below.\n",
    "- $ python weekday.py\n",
    " Yes, unfortunately today is a weekday.\n",
    "\n",
    "- An example of running it on a Saturday is as follows:\n",
    "- $ python weekday.py\n",
    "   It is the weekend, yay!"
   ]
  },
  {
   "cell_type": "code",
   "execution_count": 176,
   "metadata": {},
   "outputs": [
    {
     "name": "stdout",
     "output_type": "stream",
     "text": [
      "4 days until the weekend.\n"
     ]
    }
   ],
   "source": [
    "import datetime\n",
    "\n",
    "today = datetime.datetime.today()\n",
    "\n",
    "if today.weekday() == 4:\n",
    "    print(\"Bravissimo! It's almost the weekend!\")\n",
    "elif today.weekday() == 5 or today.weekday() == 6:\n",
    "    print(\"Yes! It's the weekend!\")\n",
    "else: \n",
    "    days_to_weekend = 4 - today.weekday()\n",
    "    print(f\"{days_to_weekend} days until the weekend.\")"
   ]
  },
  {
   "cell_type": "markdown",
   "metadata": {},
   "source": [
    "#### Week 6 squareroot.py\n",
    "***\n",
    "\n",
    "Write a program that takes a positive floating-point number as input and outputs an approximation of its square root.\n",
    "\n",
    "You should create a function called <tt>sqrt</tt> that does this.\n",
    "\n",
    "The aim is to create my own sqrt function and not to use the built in functions x ** .5 or math.sqrt(x).\n",
    "\n",
    "This is to demonstrate that you can research and code a process (If you really needed the square root\n",
    " you would use one of the above methods). We will look at the newton method at estimating square roots. "
   ]
  },
  {
   "cell_type": "markdown",
   "metadata": {},
   "source": [
    "Ref:\n",
    "\n",
    "[WIKIPEDIA](https://en.wikipedia.org/wiki/Newton's_method)\n",
    "\n",
    "[UBC.CA](https://personal.math.ubc.ca/~anstee/math104/newtonmethod.pdf)\n",
    "\n",
    "[Medium](https://medium.com/@bundy01/newton-raphson-method-for-root-finding-in-python-6b1377103c4b)\n",
    "\n",
    "[Oxford dictionary](https://www.oxfordlearnersdictionaries.com/definition/american_english/iteration)\n",
    "\n",
    "[WIKIPEDIA](https://en.wikipedia.org/wiki/Iteration)"
   ]
  },
  {
   "cell_type": "code",
   "execution_count": 177,
   "metadata": {},
   "outputs": [
    {
     "name": "stdout",
     "output_type": "stream",
     "text": [
      "The square root of 56.0 is approx. 7.5.\n"
     ]
    }
   ],
   "source": [
    "def sqrt(num):\n",
    "    \"\"\"Aroximates the square root of a positive floating-point number.\"\"\"\n",
    "     # Initial guess for the square root\n",
    "    guess = num/ 2\n",
    "    \n",
    "    # Iterate untill the guess is close enough\n",
    "    while abs(guess ** 2 - num) > 0.0001:\n",
    "       guess = (guess + num / guess) / 2\n",
    "\n",
    "    return guess\n",
    "\n",
    "def main():\n",
    "    \"\"\"Main function.\"\"\"\n",
    "    # Enter a positive number\n",
    "    num = float(input(\"please enter a positive number: \"))\n",
    "\n",
    "    # Check if the number is positive\n",
    "    if num <= 0:\n",
    "        print(\"Error: please enter a positive number:\")\n",
    "        return\n",
    "    \n",
    "    # Calculate the square root using the sqrt function\n",
    "    result = sqrt(num)\n",
    "\n",
    "    # Output the result\n",
    "    print(f\"The square root of {num} is approx. {result:.1f}.\")\n",
    "\n",
    "if __name__ == \"__main__\":\n",
    "    main()"
   ]
  },
  {
   "cell_type": "markdown",
   "metadata": {},
   "source": [
    "### Week 7 es.py the-war-of-the worlds.txt\n",
    "###### book by H. G. Wells\n",
    "\n",
    "***\n"
   ]
  },
  {
   "cell_type": "markdown",
   "metadata": {},
   "source": [
    "\n",
    "Write a program that reads in a text file and outputs the number of e's it contains. Think about what is being asked here, \n",
    "document any assumptions you are making. The program should take the filename from an argument on the command line. \n",
    "It hasn't been shown how to do this, Adequate reserch necessary.\n",
    "\n",
    "Important to deal with errors eg. no argument, filename that does not exist, or is not a text file."
   ]
  },
  {
   "cell_type": "markdown",
   "metadata": {},
   "source": [
    "##### Note: The text file in this task was taken from [Project Gutemberg](https://www.gutenberg.org/ebooks/36) for academic purpose."
   ]
  },
  {
   "cell_type": "markdown",
   "metadata": {},
   "source": [
    "###### Sources:\n",
    "\n",
    "* Principles of Data Analitycs. Lecture t11v03 by Mr Ian Mc Loughlin. April, 17th, 24.\n",
    "* [Random](https://www.w3schools.com/python/module_random.asp)\n",
    "* [Counts](https://www.programiz.com/python-programming/methods/list/count)\n",
    "* [Simbols](https://stackoverflow.com/questions/28056843/special-characters-in-string-literals)\n",
    "* [utf-8 files](https://en.wikipedia.org/wiki/UTF-8#:~:text=UTF%2D8%20is%20a%20variable,Transformation%20Format%20%E2%80%93%208%2Dbit.&text=UTF%2D8%20is%20capable%20of,8%2Dbit)\n",
    "* [Arguments](https://www.w3schools.com/python/python_functions.asp)\n",
    "* [Python Try Except](https://www.w3schools.com/python/python_try_except.asp)"
   ]
  },
  {
   "cell_type": "code",
   "execution_count": 178,
   "metadata": {},
   "outputs": [],
   "source": [
    "# The allowed symbols.\n",
    "\n",
    "def count_letters(text):\n",
    "    \"\"\" Count the occurrences of each letter in the text.\"\"\"\n",
    "symbols = \" ABCDEFGHIJKLMNOPQRSTUVWXYZ \"\n",
    "\n",
    "\n"
   ]
  },
  {
   "cell_type": "code",
   "execution_count": 179,
   "metadata": {},
   "outputs": [
    {
     "data": {
      "text/plain": [
       "'NBE ZLYTUIQXVWBMSBEBYSDCGFNILVIQHDSHEQRAKWGLMXPQRSBLYNZ FIFWSSHJCGGXVRTOQFSWMTPU V JAVB  UYI LZBGZTW'"
      ]
     },
     "execution_count": 179,
     "metadata": {},
     "output_type": "execute_result"
    }
   ],
   "source": [
    "# Randomly select k symbols from the string above.\n",
    "L = random.choices(symbols, k=100)\n",
    "\n",
    "# Show.\n",
    "''.join(L)"
   ]
  },
  {
   "cell_type": "code",
   "execution_count": 180,
   "metadata": {},
   "outputs": [],
   "source": [
    "\n",
    "# Open the book.\n",
    "with open('data/thewaroftheworlds.txt', 'r') as f:\n",
    "\n",
    "  #read the book into one long string\n",
    "  text = f.read().upper()\n",
    "  "
   ]
  },
  {
   "cell_type": "code",
   "execution_count": 181,
   "metadata": {},
   "outputs": [],
   "source": [
    "# Counts of the number of letters in the book.\n",
    "counts = {s: text.count(s) for s in symbols}"
   ]
  },
  {
   "cell_type": "code",
   "execution_count": 182,
   "metadata": {},
   "outputs": [
    {
     "data": {
      "text/plain": [
       "{' ': 54811,\n",
       " 'A': 22444,\n",
       " 'B': 4015,\n",
       " 'C': 6149,\n",
       " 'D': 12870,\n",
       " 'E': 33400,\n",
       " 'F': 6058,\n",
       " 'G': 6400,\n",
       " 'H': 16450,\n",
       " 'I': 18109,\n",
       " 'J': 185,\n",
       " 'K': 2024,\n",
       " 'L': 10212,\n",
       " 'M': 6865,\n",
       " 'N': 19259,\n",
       " 'O': 18667,\n",
       " 'P': 4656,\n",
       " 'Q': 179,\n",
       " 'R': 15685,\n",
       " 'S': 16180,\n",
       " 'T': 25684,\n",
       " 'U': 7038,\n",
       " 'V': 2380,\n",
       " 'W': 6194,\n",
       " 'X': 383,\n",
       " 'Y': 4762,\n",
       " 'Z': 105}"
      ]
     },
     "execution_count": 182,
     "metadata": {},
     "output_type": "execute_result"
    }
   ],
   "source": [
    "# Show the counts.\n",
    "counts"
   ]
  },
  {
   "cell_type": "code",
   "execution_count": 183,
   "metadata": {},
   "outputs": [
    {
     "data": {
      "text/plain": [
       "33400"
      ]
     },
     "execution_count": 183,
     "metadata": {},
     "output_type": "execute_result"
    }
   ],
   "source": [
    "# Show the number of E's.\n",
    "counts['E']"
   ]
  },
  {
   "cell_type": "markdown",
   "metadata": {},
   "source": [
    "##### Now dealing with errors eg. no argument, filename that does not exist, or is not a text file\n",
    "***\n"
   ]
  },
  {
   "cell_type": "code",
   "execution_count": 184,
   "metadata": {},
   "outputs": [
    {
     "name": "stdout",
     "output_type": "stream",
     "text": [
      "LNIFFRPUFIABL DIETBRHLYM L ROKFP  ZKZEMHDASUTLTNIQLCMBTMJHJYVSRYJXESUCI DB WNWUNN INNUBVAMBFUP OKUKV\n",
      "Number of 'E's: 33400\n",
      "Error: File does not exist.\n"
     ]
    }
   ],
   "source": [
    "\n",
    "\n",
    "# The allowed symbols.\n",
    "symbols = \" ABCDEFGHIJKLMNOPQRSTUVWXYZ \"\n",
    "\n",
    "# Randomly select k symbols from the string above.\n",
    "L = random.choices(symbols, k=100)\n",
    "\n",
    "# Show.\n",
    "print(''.join(L))\n",
    "\n",
    "# Open the book.\n",
    "with open('data/thewaroftheworlds.txt', 'r', encoding='utf-8') as f:\n",
    "    # Read the book into one long string\n",
    "    text = f.read().upper()\n",
    "\n",
    "    # Counts of the number of letters in the book.\n",
    "    counts = {s: text.count(s) for s in symbols}\n",
    "\n",
    "\n",
    "\n",
    "    # Show the number of E's.\n",
    "    print(\"Number of 'E's:\", counts['E'])\n",
    "    \n",
    "\n",
    "\n",
    "def count_letters(text):\n",
    "    \"\"\" Count the occurrences of each letter in the text.\"\"\"\n",
    "    symbols = \" ABCDEFGHIJKLMNOPQRSTUVWXYZ \"\n",
    "    counts = {s: text.count(s) for s in symbols}\n",
    "    return counts\n",
    "\n",
    "def main():\n",
    "    \"\"\"Main function.\"\"\"\n",
    "    # Check if a filename is provided as a command-line argument\n",
    "    if len(sys.argv) != 2:\n",
    "        print(\"Usage: python es.py <filename>\")\n",
    "        return\n",
    "    \n",
    "    # Get the filename from the command-line argument\n",
    "    file_name = sys.argv[1]\n",
    "    \n",
    "    # Check if the file exists\n",
    "    if not os.path.exists(file_name):\n",
    "        print(\"Error: File does not exist.\")\n",
    "        return\n",
    "    \n",
    "    # Check if the file is a text file\n",
    "    if not file_name.endswith('.txt'):\n",
    "        print(\"Error: Please provide a text file.\")\n",
    "        return\n",
    "    \n",
    "    # Open the file\n",
    "    try:\n",
    "        with open(file_name, 'r', encoding='utf-8') as f:\n",
    "            text = f.read().upper()\n",
    "    except Exception as e:\n",
    "        print(f\"Error: {e}\")\n",
    "        return\n",
    "    \n",
    "    # Count the occurrences of each letter in the text\n",
    "    letter_counts = count_letters(text)\n",
    "    \n",
    "    # Output the result\n",
    "    print(\"Counts of the number of letters in the book:\")\n",
    "    for letter, count in letter_counts.items():\n",
    "        print(f\"{letter}: {count}\")\n",
    "\n",
    "if __name__ == \"__main__\":\n",
    "    main()"
   ]
  },
  {
   "cell_type": "markdown",
   "metadata": {},
   "source": [
    "### Week 8 plottask.py\n",
    "***\n"
   ]
  },
  {
   "cell_type": "markdown",
   "metadata": {},
   "source": [
    "Write a program called plottask.py that displays:\n",
    "\n",
    "A histogram of a normal distribution of a 1000 values with a mean of 5 and standard deviation of 2, \n",
    "and a plot of the function  h(x)=x3 in the range 0 to 10, on the one set of axes.\n",
    "Make the plot look nice (legend etc)."
   ]
  },
  {
   "cell_type": "markdown",
   "metadata": {},
   "source": [
    "###### Sources:\n",
    "* [Maths](https://www.mathway.com/popular-problems/Algebra/720395)\n",
    "* [Histograms](https://matplotlib.org/stable/gallery/statistics/hist.html)\n",
    "* [Module-pyplot](https://matplotlib.org/stable/gallery/pyplots/index.html)\n",
    "\n",
    "\n"
   ]
  },
  {
   "cell_type": "code",
   "execution_count": 185,
   "metadata": {},
   "outputs": [
    {
     "data": {
      "image/png": "[encoded data removed]",
      "text/plain": [
       "<Figure size 640x480 with 1 Axes>"
      ]
     },
     "metadata": {},
     "output_type": "display_data"
    }
   ],
   "source": [
    "\n",
    "# Generate 1000 random values from a normal distribution with mean 5 and standard deviation 2\n",
    "values = np.random.normal(loc=5, scale=2, size=1000)\n",
    "\n",
    "# Create histogram\n",
    "plt.hist(values, bins=30, density=True, alpha=0.5, color='blue', label='Normal Distribution')\n",
    "\n",
    "# Generate x values for the function h(x) = x^3\n",
    "x = np.linspace(0, 10, 100)\n",
    "y = x**3\n",
    "\n",
    "# Plot the function h(x) = x^3\n",
    "plt.plot(x, y, color='red', label='$h(x) = x^3$')\n",
    "\n",
    "# Set plot title and labels\n",
    "plt.title('Histogram and Function Plot')\n",
    "plt.xlabel('Value')\n",
    "plt.ylabel('Density / $h(x)$')\n",
    "\n",
    "# Add legend\n",
    "plt.legend()\n",
    "\n",
    "# Show plot\n",
    "plt.grid(True)\n",
    "plt.tight_layout()\n",
    "plt.show()"
   ]
  },
  {
   "cell_type": "markdown",
   "metadata": {},
   "source": [
    "# End."
   ]
  }
 ],
 "metadata": {
  "kernelspec": {
   "display_name": "base",
   "language": "python",
   "name": "python3"
  },
  "language_info": {
   "codemirror_mode": {
    "name": "ipython",
    "version": 3
   },
   "file_extension": ".py",
   "mimetype": "text/x-python",
   "name": "python",
   "nbconvert_exporter": "python",
   "pygments_lexer": "ipython3",
   "version": "3.11.5"
  }
 },
 "nbformat": 4,
 "nbformat_minor": 2
}
